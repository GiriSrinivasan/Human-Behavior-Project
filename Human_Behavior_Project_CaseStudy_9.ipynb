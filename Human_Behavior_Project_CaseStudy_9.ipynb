{
  "nbformat": 4,
  "nbformat_minor": 0,
  "metadata": {
    "kernelspec": {
      "display_name": "Python 3",
      "language": "python",
      "name": "python3"
    },
    "language_info": {
      "codemirror_mode": {
        "name": "ipython",
        "version": 3
      },
      "file_extension": ".py",
      "mimetype": "text/x-python",
      "name": "python",
      "nbconvert_exporter": "python",
      "pygments_lexer": "ipython3",
      "version": "3.8.5"
    },
    "colab": {
      "name": "Human_Behavior_Project_CaseStudy_9.ipynb",
      "provenance": [],
      "include_colab_link": true
    }
  },
  "cells": [
    {
      "cell_type": "markdown",
      "metadata": {
        "id": "view-in-github",
        "colab_type": "text"
      },
      "source": [
        "<a href=\"https://colab.research.google.com/github/GiriSrinivasan/Human-Behavior-Project-CaseStudy-9/blob/main/Human_Behavior_Project_CaseStudy_9.ipynb\" target=\"_parent\"><img src=\"https://colab.research.google.com/assets/colab-badge.svg\" alt=\"Open In Colab\"/></a>"
      ]
    },
    {
      "cell_type": "code",
      "metadata": {
        "id": "zU4cCOibNSSI"
      },
      "source": [
        "# importing libraries\n",
        "import numpy as np\n",
        "import pandas as pd\n",
        "import matplotlib.pyplot as plt\n",
        "\n",
        "%matplotlib inline\n",
        "\n",
        "# machine learning library\n",
        "from sklearn.utils import shuffle\n",
        "from sklearn.neighbors import KNeighborsClassifier\n",
        "from sklearn.metrics import accuracy_score, confusion_matrix, classification_report"
      ],
      "execution_count": null,
      "outputs": []
    },
    {
      "cell_type": "markdown",
      "metadata": {
        "id": "E9LNPrI4NSSP"
      },
      "source": [
        "Reading the dataset"
      ]
    },
    {
      "cell_type": "code",
      "metadata": {
        "id": "PnuwYepfNSSQ"
      },
      "source": [
        "train = pd.read_csv('C:/Data Science/Case Studies/Human behaviour project/train.csv')\n",
        "test = pd.read_csv('C:/Data Science/Case Studies/Human behaviour project/test.csv')"
      ],
      "execution_count": null,
      "outputs": []
    },
    {
      "cell_type": "code",
      "metadata": {
        "id": "QGGO0RxKNSSQ",
        "outputId": "4715c964-8166-440c-a042-6fe87e68b6f6"
      },
      "source": [
        "train.head(5)"
      ],
      "execution_count": null,
      "outputs": [
        {
          "output_type": "execute_result",
          "data": {
            "text/html": [
              "<div>\n",
              "<style scoped>\n",
              "    .dataframe tbody tr th:only-of-type {\n",
              "        vertical-align: middle;\n",
              "    }\n",
              "\n",
              "    .dataframe tbody tr th {\n",
              "        vertical-align: top;\n",
              "    }\n",
              "\n",
              "    .dataframe thead th {\n",
              "        text-align: right;\n",
              "    }\n",
              "</style>\n",
              "<table border=\"1\" class=\"dataframe\">\n",
              "  <thead>\n",
              "    <tr style=\"text-align: right;\">\n",
              "      <th></th>\n",
              "      <th>tBodyAcc-mean()-X</th>\n",
              "      <th>tBodyAcc-mean()-Y</th>\n",
              "      <th>tBodyAcc-mean()-Z</th>\n",
              "      <th>tBodyAcc-std()-X</th>\n",
              "      <th>tBodyAcc-std()-Y</th>\n",
              "      <th>tBodyAcc-std()-Z</th>\n",
              "      <th>tBodyAcc-mad()-X</th>\n",
              "      <th>tBodyAcc-mad()-Y</th>\n",
              "      <th>tBodyAcc-mad()-Z</th>\n",
              "      <th>tBodyAcc-max()-X</th>\n",
              "      <th>...</th>\n",
              "      <th>fBodyBodyGyroJerkMag-kurtosis()</th>\n",
              "      <th>angle(tBodyAccMean,gravity)</th>\n",
              "      <th>angle(tBodyAccJerkMean),gravityMean)</th>\n",
              "      <th>angle(tBodyGyroMean,gravityMean)</th>\n",
              "      <th>angle(tBodyGyroJerkMean,gravityMean)</th>\n",
              "      <th>angle(X,gravityMean)</th>\n",
              "      <th>angle(Y,gravityMean)</th>\n",
              "      <th>angle(Z,gravityMean)</th>\n",
              "      <th>subject</th>\n",
              "      <th>Activity</th>\n",
              "    </tr>\n",
              "  </thead>\n",
              "  <tbody>\n",
              "    <tr>\n",
              "      <th>0</th>\n",
              "      <td>0.288585</td>\n",
              "      <td>-0.020294</td>\n",
              "      <td>-0.132905</td>\n",
              "      <td>-0.995279</td>\n",
              "      <td>-0.983111</td>\n",
              "      <td>-0.913526</td>\n",
              "      <td>-0.995112</td>\n",
              "      <td>-0.983185</td>\n",
              "      <td>-0.923527</td>\n",
              "      <td>-0.934724</td>\n",
              "      <td>...</td>\n",
              "      <td>-0.710304</td>\n",
              "      <td>-0.112754</td>\n",
              "      <td>0.030400</td>\n",
              "      <td>-0.464761</td>\n",
              "      <td>-0.018446</td>\n",
              "      <td>-0.841247</td>\n",
              "      <td>0.179941</td>\n",
              "      <td>-0.058627</td>\n",
              "      <td>1</td>\n",
              "      <td>STANDING</td>\n",
              "    </tr>\n",
              "    <tr>\n",
              "      <th>1</th>\n",
              "      <td>0.278419</td>\n",
              "      <td>-0.016411</td>\n",
              "      <td>-0.123520</td>\n",
              "      <td>-0.998245</td>\n",
              "      <td>-0.975300</td>\n",
              "      <td>-0.960322</td>\n",
              "      <td>-0.998807</td>\n",
              "      <td>-0.974914</td>\n",
              "      <td>-0.957686</td>\n",
              "      <td>-0.943068</td>\n",
              "      <td>...</td>\n",
              "      <td>-0.861499</td>\n",
              "      <td>0.053477</td>\n",
              "      <td>-0.007435</td>\n",
              "      <td>-0.732626</td>\n",
              "      <td>0.703511</td>\n",
              "      <td>-0.844788</td>\n",
              "      <td>0.180289</td>\n",
              "      <td>-0.054317</td>\n",
              "      <td>1</td>\n",
              "      <td>STANDING</td>\n",
              "    </tr>\n",
              "    <tr>\n",
              "      <th>2</th>\n",
              "      <td>0.279653</td>\n",
              "      <td>-0.019467</td>\n",
              "      <td>-0.113462</td>\n",
              "      <td>-0.995380</td>\n",
              "      <td>-0.967187</td>\n",
              "      <td>-0.978944</td>\n",
              "      <td>-0.996520</td>\n",
              "      <td>-0.963668</td>\n",
              "      <td>-0.977469</td>\n",
              "      <td>-0.938692</td>\n",
              "      <td>...</td>\n",
              "      <td>-0.760104</td>\n",
              "      <td>-0.118559</td>\n",
              "      <td>0.177899</td>\n",
              "      <td>0.100699</td>\n",
              "      <td>0.808529</td>\n",
              "      <td>-0.848933</td>\n",
              "      <td>0.180637</td>\n",
              "      <td>-0.049118</td>\n",
              "      <td>1</td>\n",
              "      <td>STANDING</td>\n",
              "    </tr>\n",
              "    <tr>\n",
              "      <th>3</th>\n",
              "      <td>0.279174</td>\n",
              "      <td>-0.026201</td>\n",
              "      <td>-0.123283</td>\n",
              "      <td>-0.996091</td>\n",
              "      <td>-0.983403</td>\n",
              "      <td>-0.990675</td>\n",
              "      <td>-0.997099</td>\n",
              "      <td>-0.982750</td>\n",
              "      <td>-0.989302</td>\n",
              "      <td>-0.938692</td>\n",
              "      <td>...</td>\n",
              "      <td>-0.482845</td>\n",
              "      <td>-0.036788</td>\n",
              "      <td>-0.012892</td>\n",
              "      <td>0.640011</td>\n",
              "      <td>-0.485366</td>\n",
              "      <td>-0.848649</td>\n",
              "      <td>0.181935</td>\n",
              "      <td>-0.047663</td>\n",
              "      <td>1</td>\n",
              "      <td>STANDING</td>\n",
              "    </tr>\n",
              "    <tr>\n",
              "      <th>4</th>\n",
              "      <td>0.276629</td>\n",
              "      <td>-0.016570</td>\n",
              "      <td>-0.115362</td>\n",
              "      <td>-0.998139</td>\n",
              "      <td>-0.980817</td>\n",
              "      <td>-0.990482</td>\n",
              "      <td>-0.998321</td>\n",
              "      <td>-0.979672</td>\n",
              "      <td>-0.990441</td>\n",
              "      <td>-0.942469</td>\n",
              "      <td>...</td>\n",
              "      <td>-0.699205</td>\n",
              "      <td>0.123320</td>\n",
              "      <td>0.122542</td>\n",
              "      <td>0.693578</td>\n",
              "      <td>-0.615971</td>\n",
              "      <td>-0.847865</td>\n",
              "      <td>0.185151</td>\n",
              "      <td>-0.043892</td>\n",
              "      <td>1</td>\n",
              "      <td>STANDING</td>\n",
              "    </tr>\n",
              "  </tbody>\n",
              "</table>\n",
              "<p>5 rows × 563 columns</p>\n",
              "</div>"
            ],
            "text/plain": [
              "   tBodyAcc-mean()-X  tBodyAcc-mean()-Y  tBodyAcc-mean()-Z  tBodyAcc-std()-X  \\\n",
              "0           0.288585          -0.020294          -0.132905         -0.995279   \n",
              "1           0.278419          -0.016411          -0.123520         -0.998245   \n",
              "2           0.279653          -0.019467          -0.113462         -0.995380   \n",
              "3           0.279174          -0.026201          -0.123283         -0.996091   \n",
              "4           0.276629          -0.016570          -0.115362         -0.998139   \n",
              "\n",
              "   tBodyAcc-std()-Y  tBodyAcc-std()-Z  tBodyAcc-mad()-X  tBodyAcc-mad()-Y  \\\n",
              "0         -0.983111         -0.913526         -0.995112         -0.983185   \n",
              "1         -0.975300         -0.960322         -0.998807         -0.974914   \n",
              "2         -0.967187         -0.978944         -0.996520         -0.963668   \n",
              "3         -0.983403         -0.990675         -0.997099         -0.982750   \n",
              "4         -0.980817         -0.990482         -0.998321         -0.979672   \n",
              "\n",
              "   tBodyAcc-mad()-Z  tBodyAcc-max()-X  ...  fBodyBodyGyroJerkMag-kurtosis()  \\\n",
              "0         -0.923527         -0.934724  ...                        -0.710304   \n",
              "1         -0.957686         -0.943068  ...                        -0.861499   \n",
              "2         -0.977469         -0.938692  ...                        -0.760104   \n",
              "3         -0.989302         -0.938692  ...                        -0.482845   \n",
              "4         -0.990441         -0.942469  ...                        -0.699205   \n",
              "\n",
              "   angle(tBodyAccMean,gravity)  angle(tBodyAccJerkMean),gravityMean)  \\\n",
              "0                    -0.112754                              0.030400   \n",
              "1                     0.053477                             -0.007435   \n",
              "2                    -0.118559                              0.177899   \n",
              "3                    -0.036788                             -0.012892   \n",
              "4                     0.123320                              0.122542   \n",
              "\n",
              "   angle(tBodyGyroMean,gravityMean)  angle(tBodyGyroJerkMean,gravityMean)  \\\n",
              "0                         -0.464761                             -0.018446   \n",
              "1                         -0.732626                              0.703511   \n",
              "2                          0.100699                              0.808529   \n",
              "3                          0.640011                             -0.485366   \n",
              "4                          0.693578                             -0.615971   \n",
              "\n",
              "   angle(X,gravityMean)  angle(Y,gravityMean)  angle(Z,gravityMean)  subject  \\\n",
              "0             -0.841247              0.179941             -0.058627        1   \n",
              "1             -0.844788              0.180289             -0.054317        1   \n",
              "2             -0.848933              0.180637             -0.049118        1   \n",
              "3             -0.848649              0.181935             -0.047663        1   \n",
              "4             -0.847865              0.185151             -0.043892        1   \n",
              "\n",
              "   Activity  \n",
              "0  STANDING  \n",
              "1  STANDING  \n",
              "2  STANDING  \n",
              "3  STANDING  \n",
              "4  STANDING  \n",
              "\n",
              "[5 rows x 563 columns]"
            ]
          },
          "metadata": {
            "tags": []
          },
          "execution_count": 3
        }
      ]
    },
    {
      "cell_type": "code",
      "metadata": {
        "id": "P6_S_qHbNSSS",
        "outputId": "70bccfa3-88f9-45a8-f3bc-17d85827b031"
      },
      "source": [
        "train.shape"
      ],
      "execution_count": null,
      "outputs": [
        {
          "output_type": "execute_result",
          "data": {
            "text/plain": [
              "(7352, 563)"
            ]
          },
          "metadata": {
            "tags": []
          },
          "execution_count": 4
        }
      ]
    },
    {
      "cell_type": "code",
      "metadata": {
        "id": "9n5GHNlLNSSS",
        "outputId": "9e6f9c64-e5e5-484c-a669-2411fbf3bfa8"
      },
      "source": [
        "test.shape"
      ],
      "execution_count": null,
      "outputs": [
        {
          "output_type": "execute_result",
          "data": {
            "text/plain": [
              "(2947, 563)"
            ]
          },
          "metadata": {
            "tags": []
          },
          "execution_count": 5
        }
      ]
    },
    {
      "cell_type": "markdown",
      "metadata": {
        "id": "rkWZimnNNSSS"
      },
      "source": [
        "### Checking for missing values"
      ]
    },
    {
      "cell_type": "code",
      "metadata": {
        "id": "jxkhKlTmNSST",
        "outputId": "7d804a63-0b88-4cd8-d4a5-a561bcde9148"
      },
      "source": [
        "train.isnull().sum()"
      ],
      "execution_count": null,
      "outputs": [
        {
          "output_type": "execute_result",
          "data": {
            "text/plain": [
              "tBodyAcc-mean()-X       0\n",
              "tBodyAcc-mean()-Y       0\n",
              "tBodyAcc-mean()-Z       0\n",
              "tBodyAcc-std()-X        0\n",
              "tBodyAcc-std()-Y        0\n",
              "                       ..\n",
              "angle(X,gravityMean)    0\n",
              "angle(Y,gravityMean)    0\n",
              "angle(Z,gravityMean)    0\n",
              "subject                 0\n",
              "Activity                0\n",
              "Length: 563, dtype: int64"
            ]
          },
          "metadata": {
            "tags": []
          },
          "execution_count": 6
        }
      ]
    },
    {
      "cell_type": "code",
      "metadata": {
        "id": "lTE6M2aGNSST",
        "outputId": "f8bc54ae-82fd-4b6c-ca10-f7c4e7533df2"
      },
      "source": [
        "test.isnull().sum()"
      ],
      "execution_count": null,
      "outputs": [
        {
          "output_type": "execute_result",
          "data": {
            "text/plain": [
              "tBodyAcc-mean()-X       0\n",
              "tBodyAcc-mean()-Y       0\n",
              "tBodyAcc-mean()-Z       0\n",
              "tBodyAcc-std()-X        0\n",
              "tBodyAcc-std()-Y        0\n",
              "                       ..\n",
              "angle(X,gravityMean)    0\n",
              "angle(Y,gravityMean)    0\n",
              "angle(Z,gravityMean)    0\n",
              "subject                 0\n",
              "Activity                0\n",
              "Length: 563, dtype: int64"
            ]
          },
          "metadata": {
            "tags": []
          },
          "execution_count": 7
        }
      ]
    },
    {
      "cell_type": "markdown",
      "metadata": {
        "id": "dYfK7sXjNSSU"
      },
      "source": [
        "### Exploring the dataset"
      ]
    },
    {
      "cell_type": "code",
      "metadata": {
        "id": "V5Q1uhffNSSU",
        "outputId": "254a76a9-969d-4644-aacf-219ee28b4d1c"
      },
      "source": [
        "train.columns"
      ],
      "execution_count": null,
      "outputs": [
        {
          "output_type": "execute_result",
          "data": {
            "text/plain": [
              "Index(['tBodyAcc-mean()-X', 'tBodyAcc-mean()-Y', 'tBodyAcc-mean()-Z',\n",
              "       'tBodyAcc-std()-X', 'tBodyAcc-std()-Y', 'tBodyAcc-std()-Z',\n",
              "       'tBodyAcc-mad()-X', 'tBodyAcc-mad()-Y', 'tBodyAcc-mad()-Z',\n",
              "       'tBodyAcc-max()-X',\n",
              "       ...\n",
              "       'fBodyBodyGyroJerkMag-kurtosis()', 'angle(tBodyAccMean,gravity)',\n",
              "       'angle(tBodyAccJerkMean),gravityMean)',\n",
              "       'angle(tBodyGyroMean,gravityMean)',\n",
              "       'angle(tBodyGyroJerkMean,gravityMean)', 'angle(X,gravityMean)',\n",
              "       'angle(Y,gravityMean)', 'angle(Z,gravityMean)', 'subject', 'Activity'],\n",
              "      dtype='object', length=563)"
            ]
          },
          "metadata": {
            "tags": []
          },
          "execution_count": 8
        }
      ]
    },
    {
      "cell_type": "code",
      "metadata": {
        "id": "lfRj5LztNSSU",
        "outputId": "dd0158bc-07c8-4fa1-d4d2-ef4e8b32f436"
      },
      "source": [
        "train_outcome = pd.crosstab(index = train['Activity'], columns='Count')\n",
        "train_outcome"
      ],
      "execution_count": null,
      "outputs": [
        {
          "output_type": "execute_result",
          "data": {
            "text/html": [
              "<div>\n",
              "<style scoped>\n",
              "    .dataframe tbody tr th:only-of-type {\n",
              "        vertical-align: middle;\n",
              "    }\n",
              "\n",
              "    .dataframe tbody tr th {\n",
              "        vertical-align: top;\n",
              "    }\n",
              "\n",
              "    .dataframe thead th {\n",
              "        text-align: right;\n",
              "    }\n",
              "</style>\n",
              "<table border=\"1\" class=\"dataframe\">\n",
              "  <thead>\n",
              "    <tr style=\"text-align: right;\">\n",
              "      <th>col_0</th>\n",
              "      <th>Count</th>\n",
              "    </tr>\n",
              "    <tr>\n",
              "      <th>Activity</th>\n",
              "      <th></th>\n",
              "    </tr>\n",
              "  </thead>\n",
              "  <tbody>\n",
              "    <tr>\n",
              "      <th>LAYING</th>\n",
              "      <td>1407</td>\n",
              "    </tr>\n",
              "    <tr>\n",
              "      <th>SITTING</th>\n",
              "      <td>1286</td>\n",
              "    </tr>\n",
              "    <tr>\n",
              "      <th>STANDING</th>\n",
              "      <td>1374</td>\n",
              "    </tr>\n",
              "    <tr>\n",
              "      <th>WALKING</th>\n",
              "      <td>1226</td>\n",
              "    </tr>\n",
              "    <tr>\n",
              "      <th>WALKING_DOWNSTAIRS</th>\n",
              "      <td>986</td>\n",
              "    </tr>\n",
              "    <tr>\n",
              "      <th>WALKING_UPSTAIRS</th>\n",
              "      <td>1073</td>\n",
              "    </tr>\n",
              "  </tbody>\n",
              "</table>\n",
              "</div>"
            ],
            "text/plain": [
              "col_0               Count\n",
              "Activity                 \n",
              "LAYING               1407\n",
              "SITTING              1286\n",
              "STANDING             1374\n",
              "WALKING              1226\n",
              "WALKING_DOWNSTAIRS    986\n",
              "WALKING_UPSTAIRS     1073"
            ]
          },
          "metadata": {
            "tags": []
          },
          "execution_count": 9
        }
      ]
    },
    {
      "cell_type": "markdown",
      "metadata": {
        "id": "-8w64ChSNSSV"
      },
      "source": [
        "## EDA"
      ]
    },
    {
      "cell_type": "code",
      "metadata": {
        "id": "gPPZlMqpNSSV",
        "outputId": "95d48bf5-5bd9-49d8-d219-e07e5dc02a33"
      },
      "source": [
        "temp = train[\"Activity\"].value_counts()\n",
        "temp"
      ],
      "execution_count": null,
      "outputs": [
        {
          "output_type": "execute_result",
          "data": {
            "text/plain": [
              "LAYING                1407\n",
              "STANDING              1374\n",
              "SITTING               1286\n",
              "WALKING               1226\n",
              "WALKING_UPSTAIRS      1073\n",
              "WALKING_DOWNSTAIRS     986\n",
              "Name: Activity, dtype: int64"
            ]
          },
          "metadata": {
            "tags": []
          },
          "execution_count": 10
        }
      ]
    },
    {
      "cell_type": "code",
      "metadata": {
        "id": "xIV7ZEp3NSSV"
      },
      "source": [
        "df = pd.DataFrame({'labels':temp.index, 'values':temp.values})"
      ],
      "execution_count": null,
      "outputs": []
    },
    {
      "cell_type": "code",
      "metadata": {
        "id": "31YSKnADNSSV",
        "outputId": "84dbf01e-9c92-4f3d-9e77-9d837d38718e"
      },
      "source": [
        "df.head()"
      ],
      "execution_count": null,
      "outputs": [
        {
          "output_type": "execute_result",
          "data": {
            "text/html": [
              "<div>\n",
              "<style scoped>\n",
              "    .dataframe tbody tr th:only-of-type {\n",
              "        vertical-align: middle;\n",
              "    }\n",
              "\n",
              "    .dataframe tbody tr th {\n",
              "        vertical-align: top;\n",
              "    }\n",
              "\n",
              "    .dataframe thead th {\n",
              "        text-align: right;\n",
              "    }\n",
              "</style>\n",
              "<table border=\"1\" class=\"dataframe\">\n",
              "  <thead>\n",
              "    <tr style=\"text-align: right;\">\n",
              "      <th></th>\n",
              "      <th>labels</th>\n",
              "      <th>values</th>\n",
              "    </tr>\n",
              "  </thead>\n",
              "  <tbody>\n",
              "    <tr>\n",
              "      <th>0</th>\n",
              "      <td>LAYING</td>\n",
              "      <td>1407</td>\n",
              "    </tr>\n",
              "    <tr>\n",
              "      <th>1</th>\n",
              "      <td>STANDING</td>\n",
              "      <td>1374</td>\n",
              "    </tr>\n",
              "    <tr>\n",
              "      <th>2</th>\n",
              "      <td>SITTING</td>\n",
              "      <td>1286</td>\n",
              "    </tr>\n",
              "    <tr>\n",
              "      <th>3</th>\n",
              "      <td>WALKING</td>\n",
              "      <td>1226</td>\n",
              "    </tr>\n",
              "    <tr>\n",
              "      <th>4</th>\n",
              "      <td>WALKING_UPSTAIRS</td>\n",
              "      <td>1073</td>\n",
              "    </tr>\n",
              "  </tbody>\n",
              "</table>\n",
              "</div>"
            ],
            "text/plain": [
              "             labels  values\n",
              "0            LAYING    1407\n",
              "1          STANDING    1374\n",
              "2           SITTING    1286\n",
              "3           WALKING    1226\n",
              "4  WALKING_UPSTAIRS    1073"
            ]
          },
          "metadata": {
            "tags": []
          },
          "execution_count": 12
        }
      ]
    },
    {
      "cell_type": "code",
      "metadata": {
        "id": "jXnJdLiYNSSW",
        "outputId": "13ad3538-a15f-4802-8b0a-26d1d4ddb271"
      },
      "source": [
        "plt.figure(figsize=(10,6))\n",
        "labels = df['labels']\n",
        "sizes = df['values']\n",
        "colors = ['yellowgreen', 'lightskyblue', 'gold', 'lightpink', 'cyan', 'lightcoral']\n",
        "plt.pie(sizes,colors=colors,labels=labels,startangle=90,autopct='%1.1f%%')\n",
        "plt.axis('equal')\n",
        "plt.show()"
      ],
      "execution_count": null,
      "outputs": [
        {
          "output_type": "display_data",
          "data": {
            "image/png": "[encoded data removed]",
            "text/plain": [
              "<Figure size 720x432 with 1 Axes>"
            ]
          },
          "metadata": {
            "tags": []
          }
        }
      ]
    },
    {
      "cell_type": "markdown",
      "metadata": {
        "id": "IqQRuAHdNSSW"
      },
      "source": [
        "## Data Processing"
      ]
    },
    {
      "cell_type": "code",
      "metadata": {
        "id": "DQ1cveBMNSSW"
      },
      "source": [
        "x_train = pd.DataFrame(train.drop(['Activity','subject'], axis=1))\n",
        "y_train_label = train.Activity.values.astype(object)\n",
        "\n",
        "x_test = pd.DataFrame(test.drop(['Activity','subject'],axis=1))\n",
        "y_test_label = test.Activity.values.astype(object)"
      ],
      "execution_count": null,
      "outputs": []
    },
    {
      "cell_type": "code",
      "metadata": {
        "id": "OQFi1gzGNSSW"
      },
      "source": [
        "from sklearn import preprocessing\n",
        "encoder = preprocessing.LabelEncoder()\n",
        "\n",
        "encoder.fit(y_train_label)\n",
        "y_train = encoder.transform(y_train_label)"
      ],
      "execution_count": null,
      "outputs": []
    },
    {
      "cell_type": "code",
      "metadata": {
        "id": "RxFwTLryNSSX",
        "outputId": "38f35d3b-0839-4864-c1b2-46f3e00e9821"
      },
      "source": [
        "y_train"
      ],
      "execution_count": null,
      "outputs": [
        {
          "output_type": "execute_result",
          "data": {
            "text/plain": [
              "array([2, 2, 2, ..., 5, 5, 5])"
            ]
          },
          "metadata": {
            "tags": []
          },
          "execution_count": 16
        }
      ]
    },
    {
      "cell_type": "code",
      "metadata": {
        "id": "eyNpvl2LNSSX"
      },
      "source": [
        "encoder.fit(y_test_label)\n",
        "y_test = encoder.transform(y_test_label)"
      ],
      "execution_count": null,
      "outputs": []
    },
    {
      "cell_type": "code",
      "metadata": {
        "id": "1FhxcYOyNSSX",
        "outputId": "ce4b686b-ff94-4551-eeed-50dc0842cdb6"
      },
      "source": [
        "y_test"
      ],
      "execution_count": null,
      "outputs": [
        {
          "output_type": "execute_result",
          "data": {
            "text/plain": [
              "array([2, 2, 2, ..., 5, 5, 5])"
            ]
          },
          "metadata": {
            "tags": []
          },
          "execution_count": 18
        }
      ]
    },
    {
      "cell_type": "code",
      "metadata": {
        "id": "RGdUBV_nNSSX",
        "outputId": "cfb2635e-7f01-4260-bc9c-21947b4157f1"
      },
      "source": [
        "num_cols = x_train._get_numeric_data().columns\n",
        "num_cols.size"
      ],
      "execution_count": null,
      "outputs": [
        {
          "output_type": "execute_result",
          "data": {
            "text/plain": [
              "561"
            ]
          },
          "metadata": {
            "tags": []
          },
          "execution_count": 19
        }
      ]
    },
    {
      "cell_type": "markdown",
      "metadata": {
        "id": "g1GYda26NSSY"
      },
      "source": [
        "## Model Building"
      ]
    },
    {
      "cell_type": "code",
      "metadata": {
        "id": "zfXZbHG1NSSY"
      },
      "source": [
        "from sklearn.preprocessing import StandardScaler"
      ],
      "execution_count": null,
      "outputs": []
    },
    {
      "cell_type": "code",
      "metadata": {
        "id": "WaDoxi8iNSSY"
      },
      "source": [
        "scaler = StandardScaler()"
      ],
      "execution_count": null,
      "outputs": []
    },
    {
      "cell_type": "code",
      "metadata": {
        "id": "jIe_GmJRNSSY"
      },
      "source": [
        "x_train = scaler.fit_transform(x_train)\n",
        "x_test = scaler.fit_transform(x_test)"
      ],
      "execution_count": null,
      "outputs": []
    },
    {
      "cell_type": "code",
      "metadata": {
        "id": "Pv2tBbY9NSSY",
        "outputId": "f0040761-72dd-4084-c97f-2b21ee193e6f"
      },
      "source": [
        "knn = KNeighborsClassifier(n_neighbors=24)\n",
        "knn.fit(x_train,y_train)"
      ],
      "execution_count": null,
      "outputs": [
        {
          "output_type": "execute_result",
          "data": {
            "text/plain": [
              "KNeighborsClassifier(n_neighbors=24)"
            ]
          },
          "metadata": {
            "tags": []
          },
          "execution_count": 23
        }
      ]
    },
    {
      "cell_type": "code",
      "metadata": {
        "id": "7gx7poo6NSSZ"
      },
      "source": [
        "y_pred = knn.predict(x_test)"
      ],
      "execution_count": null,
      "outputs": []
    },
    {
      "cell_type": "code",
      "metadata": {
        "id": "NTE5wTO_NSSZ",
        "outputId": "443a2e0b-3cf1-4482-ef8a-d0c01ad7a8e5"
      },
      "source": [
        "print((accuracy_score(y_test, y_pred)*100), '%')"
      ],
      "execution_count": null,
      "outputs": [
        {
          "output_type": "stream",
          "text": [
            "89.98982015609094 %\n"
          ],
          "name": "stdout"
        }
      ]
    },
    {
      "cell_type": "code",
      "metadata": {
        "id": "hqDoOIprNSSZ"
      },
      "source": [
        "scores = []\n",
        "for i in range(1,50):\n",
        "    knn=KNeighborsClassifier(n_neighbors=i, n_jobs=-1)\n",
        "    knn.fit(x_train, y_train)\n",
        "    y_pred = knn.predict(x_test)\n",
        "    scores.append(accuracy_score(y_test, y_pred))"
      ],
      "execution_count": null,
      "outputs": []
    },
    {
      "cell_type": "code",
      "metadata": {
        "id": "3Oh-P8n4NSSZ",
        "outputId": "77dda2b3-743e-494c-a830-6e1fe3d0eb06"
      },
      "source": [
        "plt.figure(figsize=(10,6))\n",
        "plt.xlabel('Number of Neighbors')\n",
        "plt.ylabel('Accuracy Score')\n",
        "xticks = range(1,50)\n",
        "plt.plot(xticks, scores, color='red', linestyle='solid', marker='o', \n",
        "        markersize=5, markerfacecolor='blue')\n",
        "plt.show()"
      ],
      "execution_count": null,
      "outputs": [
        {
          "output_type": "display_data",
          "data": {
            "image/png": "[encoded data removed]",
            "text/plain": [
              "<Figure size 720x432 with 1 Axes>"
            ]
          },
          "metadata": {
            "tags": [],
            "needs_background": "light"
          }
        }
      ]
    },
    {
      "cell_type": "code",
      "metadata": {
        "id": "G0Vk47FBNSSa",
        "outputId": "621d6048-793f-4ae5-a42c-14ecf585e51e"
      },
      "source": [
        "scores = np.array(scores)\n",
        "print('Optimal number of neighbors is:', scores.argmax())\n",
        "print('Accuracy Score:' +str(scores.max()*100),'%')"
      ],
      "execution_count": null,
      "outputs": [
        {
          "output_type": "stream",
          "text": [
            "Optimal number of neighbors is: 19\n",
            "Accuracy Score:90.29521547336275 %\n"
          ],
          "name": "stdout"
        }
      ]
    },
    {
      "cell_type": "code",
      "metadata": {
        "id": "79QDFWe7NSSa"
      },
      "source": [
        "knn = KNeighborsClassifier(n_neighbors=19)\n",
        "knn.fit(x_train, y_train)\n",
        "y_pred = knn.predict(x_test)\n",
        "y_pred_label = list(encoder.inverse_transform(y_pred))"
      ],
      "execution_count": null,
      "outputs": []
    },
    {
      "cell_type": "code",
      "metadata": {
        "id": "AREin-A5NSSa",
        "outputId": "13bb7f02-3238-48da-b731-a1f8f4f80dd7"
      },
      "source": [
        "y_pred_label"
      ],
      "execution_count": null,
      "outputs": [
        {
          "output_type": "execute_result",
          "data": {
            "text/plain": [
              "['STANDING',\n",
              " 'STANDING',\n",
              " 'STANDING',\n",
              " 'STANDING',\n",
              " 'STANDING',\n",
              " 'STANDING',\n",
              " 'STANDING',\n",
              " 'STANDING',\n",
              " 'STANDING',\n",
              " 'STANDING',\n",
              " 'STANDING',\n",
              " 'STANDING',\n",
              " 'STANDING',\n",
              " 'STANDING',\n",
              " 'STANDING',\n",
              " 'STANDING',\n",
              " 'STANDING',\n",
              " 'STANDING',\n",
              " 'STANDING',\n",
              " 'STANDING',\n",
              " 'STANDING',\n",
              " 'STANDING',\n",
              " 'STANDING',\n",
              " 'STANDING',\n",
              " 'STANDING',\n",
              " 'STANDING',\n",
              " 'STANDING',\n",
              " 'STANDING',\n",
              " 'STANDING',\n",
              " 'STANDING',\n",
              " 'STANDING',\n",
              " 'STANDING',\n",
              " 'SITTING',\n",
              " 'SITTING',\n",
              " 'STANDING',\n",
              " 'SITTING',\n",
              " 'SITTING',\n",
              " 'SITTING',\n",
              " 'STANDING',\n",
              " 'SITTING',\n",
              " 'SITTING',\n",
              " 'SITTING',\n",
              " 'SITTING',\n",
              " 'SITTING',\n",
              " 'SITTING',\n",
              " 'SITTING',\n",
              " 'SITTING',\n",
              " 'SITTING',\n",
              " 'SITTING',\n",
              " 'SITTING',\n",
              " 'STANDING',\n",
              " 'STANDING',\n",
              " 'STANDING',\n",
              " 'SITTING',\n",
              " 'SITTING',\n",
              " 'LAYING',\n",
              " 'LAYING',\n",
              " 'LAYING',\n",
              " 'LAYING',\n",
              " 'LAYING',\n",
              " 'LAYING',\n",
              " 'LAYING',\n",
              " 'LAYING',\n",
              " 'LAYING',\n",
              " 'LAYING',\n",
              " 'LAYING',\n",
              " 'LAYING',\n",
              " 'LAYING',\n",
              " 'LAYING',\n",
              " 'LAYING',\n",
              " 'LAYING',\n",
              " 'LAYING',\n",
              " 'LAYING',\n",
              " 'LAYING',\n",
              " 'LAYING',\n",
              " 'LAYING',\n",
              " 'LAYING',\n",
              " 'LAYING',\n",
              " 'LAYING',\n",
              " 'WALKING',\n",
              " 'WALKING',\n",
              " 'WALKING',\n",
              " 'WALKING',\n",
              " 'WALKING',\n",
              " 'WALKING',\n",
              " 'WALKING',\n",
              " 'WALKING',\n",
              " 'WALKING',\n",
              " 'WALKING',\n",
              " 'WALKING',\n",
              " 'WALKING',\n",
              " 'WALKING',\n",
              " 'WALKING',\n",
              " 'WALKING',\n",
              " 'WALKING',\n",
              " 'WALKING',\n",
              " 'WALKING',\n",
              " 'WALKING',\n",
              " 'WALKING',\n",
              " 'WALKING',\n",
              " 'WALKING',\n",
              " 'WALKING',\n",
              " 'WALKING',\n",
              " 'WALKING',\n",
              " 'WALKING',\n",
              " 'WALKING',\n",
              " 'WALKING',\n",
              " 'WALKING',\n",
              " 'WALKING',\n",
              " 'WALKING',\n",
              " 'WALKING',\n",
              " 'WALKING_DOWNSTAIRS',\n",
              " 'WALKING_DOWNSTAIRS',\n",
              " 'WALKING_DOWNSTAIRS',\n",
              " 'WALKING_DOWNSTAIRS',\n",
              " 'WALKING_DOWNSTAIRS',\n",
              " 'WALKING_DOWNSTAIRS',\n",
              " 'WALKING',\n",
              " 'WALKING_DOWNSTAIRS',\n",
              " 'WALKING_DOWNSTAIRS',\n",
              " 'WALKING_DOWNSTAIRS',\n",
              " 'WALKING_DOWNSTAIRS',\n",
              " 'WALKING_DOWNSTAIRS',\n",
              " 'WALKING_DOWNSTAIRS',\n",
              " 'WALKING_DOWNSTAIRS',\n",
              " 'WALKING_DOWNSTAIRS',\n",
              " 'WALKING_DOWNSTAIRS',\n",
              " 'WALKING_DOWNSTAIRS',\n",
              " 'WALKING_DOWNSTAIRS',\n",
              " 'WALKING_DOWNSTAIRS',\n",
              " 'WALKING_DOWNSTAIRS',\n",
              " 'WALKING_DOWNSTAIRS',\n",
              " 'WALKING_DOWNSTAIRS',\n",
              " 'WALKING_UPSTAIRS',\n",
              " 'WALKING_UPSTAIRS',\n",
              " 'WALKING_UPSTAIRS',\n",
              " 'WALKING_UPSTAIRS',\n",
              " 'WALKING_UPSTAIRS',\n",
              " 'WALKING_UPSTAIRS',\n",
              " 'WALKING_UPSTAIRS',\n",
              " 'WALKING_UPSTAIRS',\n",
              " 'WALKING_UPSTAIRS',\n",
              " 'WALKING_UPSTAIRS',\n",
              " 'WALKING_UPSTAIRS',\n",
              " 'WALKING_UPSTAIRS',\n",
              " 'WALKING_UPSTAIRS',\n",
              " 'WALKING_UPSTAIRS',\n",
              " 'WALKING_UPSTAIRS',\n",
              " 'WALKING_UPSTAIRS',\n",
              " 'WALKING_UPSTAIRS',\n",
              " 'WALKING_UPSTAIRS',\n",
              " 'WALKING_UPSTAIRS',\n",
              " 'WALKING_UPSTAIRS',\n",
              " 'WALKING_UPSTAIRS',\n",
              " 'WALKING_UPSTAIRS',\n",
              " 'WALKING_UPSTAIRS',\n",
              " 'WALKING_UPSTAIRS',\n",
              " 'WALKING_UPSTAIRS',\n",
              " 'STANDING',\n",
              " 'STANDING',\n",
              " 'STANDING',\n",
              " 'STANDING',\n",
              " 'STANDING',\n",
              " 'STANDING',\n",
              " 'STANDING',\n",
              " 'STANDING',\n",
              " 'STANDING',\n",
              " 'STANDING',\n",
              " 'STANDING',\n",
              " 'STANDING',\n",
              " 'STANDING',\n",
              " 'STANDING',\n",
              " 'STANDING',\n",
              " 'STANDING',\n",
              " 'STANDING',\n",
              " 'STANDING',\n",
              " 'STANDING',\n",
              " 'STANDING',\n",
              " 'STANDING',\n",
              " 'STANDING',\n",
              " 'STANDING',\n",
              " 'STANDING',\n",
              " 'SITTING',\n",
              " 'SITTING',\n",
              " 'SITTING',\n",
              " 'SITTING',\n",
              " 'SITTING',\n",
              " 'SITTING',\n",
              " 'SITTING',\n",
              " 'SITTING',\n",
              " 'SITTING',\n",
              " 'SITTING',\n",
              " 'SITTING',\n",
              " 'SITTING',\n",
              " 'SITTING',\n",
              " 'SITTING',\n",
              " 'SITTING',\n",
              " 'SITTING',\n",
              " 'STANDING',\n",
              " 'SITTING',\n",
              " 'SITTING',\n",
              " 'SITTING',\n",
              " 'SITTING',\n",
              " 'LAYING',\n",
              " 'LAYING',\n",
              " 'LAYING',\n",
              " 'LAYING',\n",
              " 'LAYING',\n",
              " 'LAYING',\n",
              " 'LAYING',\n",
              " 'LAYING',\n",
              " 'LAYING',\n",
              " 'LAYING',\n",
              " 'LAYING',\n",
              " 'LAYING',\n",
              " 'LAYING',\n",
              " 'LAYING',\n",
              " 'LAYING',\n",
              " 'LAYING',\n",
              " 'LAYING',\n",
              " 'LAYING',\n",
              " 'LAYING',\n",
              " 'LAYING',\n",
              " 'LAYING',\n",
              " 'LAYING',\n",
              " 'LAYING',\n",
              " 'LAYING',\n",
              " 'WALKING',\n",
              " 'WALKING',\n",
              " 'WALKING',\n",
              " 'WALKING',\n",
              " 'WALKING',\n",
              " 'WALKING',\n",
              " 'WALKING',\n",
              " 'WALKING',\n",
              " 'WALKING',\n",
              " 'WALKING',\n",
              " 'WALKING',\n",
              " 'WALKING',\n",
              " 'WALKING',\n",
              " 'WALKING',\n",
              " 'WALKING',\n",
              " 'WALKING',\n",
              " 'WALKING',\n",
              " 'WALKING',\n",
              " 'WALKING',\n",
              " 'WALKING',\n",
              " 'WALKING',\n",
              " 'WALKING',\n",
              " 'WALKING',\n",
              " 'WALKING',\n",
              " 'WALKING',\n",
              " 'WALKING',\n",
              " 'WALKING',\n",
              " 'WALKING',\n",
              " 'WALKING',\n",
              " 'WALKING_DOWNSTAIRS',\n",
              " 'WALKING_DOWNSTAIRS',\n",
              " 'WALKING_DOWNSTAIRS',\n",
              " 'WALKING_DOWNSTAIRS',\n",
              " 'WALKING_DOWNSTAIRS',\n",
              " 'WALKING_DOWNSTAIRS',\n",
              " 'WALKING_DOWNSTAIRS',\n",
              " 'WALKING_DOWNSTAIRS',\n",
              " 'WALKING_DOWNSTAIRS',\n",
              " 'WALKING_DOWNSTAIRS',\n",
              " 'WALKING_DOWNSTAIRS',\n",
              " 'WALKING_DOWNSTAIRS',\n",
              " 'WALKING_DOWNSTAIRS',\n",
              " 'WALKING_DOWNSTAIRS',\n",
              " 'WALKING_DOWNSTAIRS',\n",
              " 'WALKING_DOWNSTAIRS',\n",
              " 'WALKING_DOWNSTAIRS',\n",
              " 'WALKING_DOWNSTAIRS',\n",
              " 'WALKING_DOWNSTAIRS',\n",
              " 'WALKING_DOWNSTAIRS',\n",
              " 'WALKING_DOWNSTAIRS',\n",
              " 'WALKING_DOWNSTAIRS',\n",
              " 'WALKING_DOWNSTAIRS',\n",
              " 'WALKING_UPSTAIRS',\n",
              " 'WALKING_UPSTAIRS',\n",
              " 'WALKING_UPSTAIRS',\n",
              " 'WALKING_UPSTAIRS',\n",
              " 'WALKING_UPSTAIRS',\n",
              " 'WALKING_UPSTAIRS',\n",
              " 'WALKING_UPSTAIRS',\n",
              " 'WALKING_UPSTAIRS',\n",
              " 'WALKING_UPSTAIRS',\n",
              " 'WALKING',\n",
              " 'WALKING_UPSTAIRS',\n",
              " 'WALKING_UPSTAIRS',\n",
              " 'WALKING_UPSTAIRS',\n",
              " 'WALKING_UPSTAIRS',\n",
              " 'WALKING',\n",
              " 'WALKING',\n",
              " 'WALKING_UPSTAIRS',\n",
              " 'WALKING',\n",
              " 'WALKING',\n",
              " 'WALKING',\n",
              " 'WALKING_UPSTAIRS',\n",
              " 'WALKING_UPSTAIRS',\n",
              " 'WALKING_UPSTAIRS',\n",
              " 'STANDING',\n",
              " 'STANDING',\n",
              " 'STANDING',\n",
              " 'STANDING',\n",
              " 'STANDING',\n",
              " 'STANDING',\n",
              " 'STANDING',\n",
              " 'STANDING',\n",
              " 'STANDING',\n",
              " 'STANDING',\n",
              " 'SITTING',\n",
              " 'SITTING',\n",
              " 'STANDING',\n",
              " 'STANDING',\n",
              " 'SITTING',\n",
              " 'STANDING',\n",
              " 'STANDING',\n",
              " 'STANDING',\n",
              " 'SITTING',\n",
              " 'STANDING',\n",
              " 'STANDING',\n",
              " 'STANDING',\n",
              " 'STANDING',\n",
              " 'STANDING',\n",
              " 'STANDING',\n",
              " 'STANDING',\n",
              " 'STANDING',\n",
              " 'STANDING',\n",
              " 'SITTING',\n",
              " 'SITTING',\n",
              " 'SITTING',\n",
              " 'SITTING',\n",
              " 'SITTING',\n",
              " 'SITTING',\n",
              " 'SITTING',\n",
              " 'SITTING',\n",
              " 'SITTING',\n",
              " 'SITTING',\n",
              " 'SITTING',\n",
              " 'SITTING',\n",
              " 'SITTING',\n",
              " 'STANDING',\n",
              " 'SITTING',\n",
              " 'SITTING',\n",
              " 'STANDING',\n",
              " 'STANDING',\n",
              " 'SITTING',\n",
              " 'STANDING',\n",
              " 'STANDING',\n",
              " 'SITTING',\n",
              " 'SITTING',\n",
              " 'SITTING',\n",
              " 'LAYING',\n",
              " 'LAYING',\n",
              " 'LAYING',\n",
              " 'LAYING',\n",
              " 'LAYING',\n",
              " 'LAYING',\n",
              " 'LAYING',\n",
              " 'LAYING',\n",
              " 'LAYING',\n",
              " 'LAYING',\n",
              " 'LAYING',\n",
              " 'LAYING',\n",
              " 'LAYING',\n",
              " 'LAYING',\n",
              " 'LAYING',\n",
              " 'LAYING',\n",
              " 'LAYING',\n",
              " 'LAYING',\n",
              " 'LAYING',\n",
              " 'LAYING',\n",
              " 'LAYING',\n",
              " 'LAYING',\n",
              " 'LAYING',\n",
              " 'LAYING',\n",
              " 'LAYING',\n",
              " 'LAYING',\n",
              " 'LAYING',\n",
              " 'LAYING',\n",
              " 'LAYING',\n",
              " 'LAYING',\n",
              " 'WALKING',\n",
              " 'WALKING',\n",
              " 'WALKING',\n",
              " 'WALKING',\n",
              " 'WALKING',\n",
              " 'WALKING',\n",
              " 'WALKING',\n",
              " 'WALKING',\n",
              " 'WALKING',\n",
              " 'WALKING',\n",
              " 'WALKING',\n",
              " 'WALKING',\n",
              " 'WALKING',\n",
              " 'WALKING',\n",
              " 'WALKING',\n",
              " 'WALKING',\n",
              " 'WALKING',\n",
              " 'WALKING',\n",
              " 'WALKING',\n",
              " 'WALKING',\n",
              " 'WALKING',\n",
              " 'WALKING',\n",
              " 'WALKING',\n",
              " 'WALKING',\n",
              " 'WALKING',\n",
              " 'WALKING',\n",
              " 'WALKING',\n",
              " 'WALKING',\n",
              " 'WALKING',\n",
              " 'WALKING',\n",
              " 'WALKING',\n",
              " 'WALKING_DOWNSTAIRS',\n",
              " 'WALKING_UPSTAIRS',\n",
              " 'WALKING_DOWNSTAIRS',\n",
              " 'WALKING_DOWNSTAIRS',\n",
              " 'WALKING_DOWNSTAIRS',\n",
              " 'WALKING_DOWNSTAIRS',\n",
              " 'WALKING_UPSTAIRS',\n",
              " 'WALKING_UPSTAIRS',\n",
              " 'WALKING_DOWNSTAIRS',\n",
              " 'WALKING_DOWNSTAIRS',\n",
              " 'WALKING_DOWNSTAIRS',\n",
              " 'WALKING_DOWNSTAIRS',\n",
              " 'WALKING_UPSTAIRS',\n",
              " 'WALKING_DOWNSTAIRS',\n",
              " 'WALKING_DOWNSTAIRS',\n",
              " 'WALKING_DOWNSTAIRS',\n",
              " 'WALKING_DOWNSTAIRS',\n",
              " 'WALKING_DOWNSTAIRS',\n",
              " 'WALKING_DOWNSTAIRS',\n",
              " 'WALKING_DOWNSTAIRS',\n",
              " 'WALKING_DOWNSTAIRS',\n",
              " 'WALKING_DOWNSTAIRS',\n",
              " 'WALKING_DOWNSTAIRS',\n",
              " 'WALKING_UPSTAIRS',\n",
              " 'WALKING_UPSTAIRS',\n",
              " 'WALKING_UPSTAIRS',\n",
              " 'WALKING_UPSTAIRS',\n",
              " 'WALKING_UPSTAIRS',\n",
              " 'WALKING_UPSTAIRS',\n",
              " 'WALKING_UPSTAIRS',\n",
              " 'WALKING_UPSTAIRS',\n",
              " 'WALKING_UPSTAIRS',\n",
              " 'WALKING_UPSTAIRS',\n",
              " 'WALKING_UPSTAIRS',\n",
              " 'WALKING_UPSTAIRS',\n",
              " 'WALKING_UPSTAIRS',\n",
              " 'WALKING_UPSTAIRS',\n",
              " 'WALKING_UPSTAIRS',\n",
              " 'WALKING_UPSTAIRS',\n",
              " 'WALKING_UPSTAIRS',\n",
              " 'WALKING_UPSTAIRS',\n",
              " 'WALKING_UPSTAIRS',\n",
              " 'WALKING_UPSTAIRS',\n",
              " 'WALKING_UPSTAIRS',\n",
              " 'WALKING_UPSTAIRS',\n",
              " 'WALKING_UPSTAIRS',\n",
              " 'WALKING_UPSTAIRS',\n",
              " 'WALKING_UPSTAIRS',\n",
              " 'WALKING_UPSTAIRS',\n",
              " 'WALKING_UPSTAIRS',\n",
              " 'WALKING_UPSTAIRS',\n",
              " 'SITTING',\n",
              " 'STANDING',\n",
              " 'STANDING',\n",
              " 'STANDING',\n",
              " 'STANDING',\n",
              " 'STANDING',\n",
              " 'STANDING',\n",
              " 'STANDING',\n",
              " 'STANDING',\n",
              " 'STANDING',\n",
              " 'STANDING',\n",
              " 'STANDING',\n",
              " 'STANDING',\n",
              " 'STANDING',\n",
              " 'SITTING',\n",
              " 'STANDING',\n",
              " 'SITTING',\n",
              " 'STANDING',\n",
              " 'STANDING',\n",
              " 'STANDING',\n",
              " 'STANDING',\n",
              " 'STANDING',\n",
              " 'STANDING',\n",
              " 'STANDING',\n",
              " 'STANDING',\n",
              " 'STANDING',\n",
              " 'STANDING',\n",
              " 'STANDING',\n",
              " 'SITTING',\n",
              " 'SITTING',\n",
              " 'SITTING',\n",
              " 'SITTING',\n",
              " 'SITTING',\n",
              " 'SITTING',\n",
              " 'SITTING',\n",
              " 'SITTING',\n",
              " 'SITTING',\n",
              " 'SITTING',\n",
              " 'SITTING',\n",
              " 'SITTING',\n",
              " 'SITTING',\n",
              " 'SITTING',\n",
              " 'SITTING',\n",
              " 'SITTING',\n",
              " 'SITTING',\n",
              " 'STANDING',\n",
              " 'STANDING',\n",
              " 'STANDING',\n",
              " 'STANDING',\n",
              " 'STANDING',\n",
              " 'SITTING',\n",
              " 'STANDING',\n",
              " 'STANDING',\n",
              " 'SITTING',\n",
              " 'LAYING',\n",
              " 'LAYING',\n",
              " 'LAYING',\n",
              " 'LAYING',\n",
              " 'LAYING',\n",
              " 'LAYING',\n",
              " 'LAYING',\n",
              " 'LAYING',\n",
              " 'LAYING',\n",
              " 'LAYING',\n",
              " 'LAYING',\n",
              " 'LAYING',\n",
              " 'LAYING',\n",
              " 'LAYING',\n",
              " 'LAYING',\n",
              " 'LAYING',\n",
              " 'LAYING',\n",
              " 'LAYING',\n",
              " 'LAYING',\n",
              " 'LAYING',\n",
              " 'LAYING',\n",
              " 'LAYING',\n",
              " 'LAYING',\n",
              " 'LAYING',\n",
              " 'WALKING',\n",
              " 'WALKING',\n",
              " 'WALKING',\n",
              " 'WALKING',\n",
              " 'WALKING',\n",
              " 'WALKING',\n",
              " 'WALKING',\n",
              " 'WALKING',\n",
              " 'WALKING',\n",
              " 'WALKING',\n",
              " 'WALKING',\n",
              " 'WALKING',\n",
              " 'WALKING',\n",
              " 'WALKING',\n",
              " 'WALKING_DOWNSTAIRS',\n",
              " 'WALKING',\n",
              " 'WALKING',\n",
              " 'WALKING',\n",
              " 'WALKING',\n",
              " 'WALKING',\n",
              " 'WALKING',\n",
              " 'WALKING',\n",
              " 'WALKING',\n",
              " 'WALKING',\n",
              " 'WALKING',\n",
              " 'WALKING',\n",
              " 'WALKING',\n",
              " 'WALKING',\n",
              " 'WALKING',\n",
              " 'WALKING_DOWNSTAIRS',\n",
              " 'WALKING_DOWNSTAIRS',\n",
              " 'WALKING_DOWNSTAIRS',\n",
              " 'WALKING_DOWNSTAIRS',\n",
              " 'WALKING_DOWNSTAIRS',\n",
              " 'WALKING_DOWNSTAIRS',\n",
              " 'WALKING_DOWNSTAIRS',\n",
              " 'WALKING_DOWNSTAIRS',\n",
              " 'WALKING_DOWNSTAIRS',\n",
              " 'WALKING_DOWNSTAIRS',\n",
              " 'WALKING_DOWNSTAIRS',\n",
              " 'WALKING_DOWNSTAIRS',\n",
              " 'WALKING_DOWNSTAIRS',\n",
              " 'WALKING_DOWNSTAIRS',\n",
              " 'WALKING',\n",
              " 'WALKING_DOWNSTAIRS',\n",
              " 'WALKING_DOWNSTAIRS',\n",
              " 'WALKING_DOWNSTAIRS',\n",
              " 'WALKING_DOWNSTAIRS',\n",
              " 'WALKING_DOWNSTAIRS',\n",
              " 'WALKING_DOWNSTAIRS',\n",
              " 'WALKING_DOWNSTAIRS',\n",
              " 'WALKING_UPSTAIRS',\n",
              " 'WALKING_UPSTAIRS',\n",
              " 'WALKING_UPSTAIRS',\n",
              " 'WALKING_UPSTAIRS',\n",
              " 'WALKING_UPSTAIRS',\n",
              " 'WALKING_UPSTAIRS',\n",
              " 'WALKING_UPSTAIRS',\n",
              " 'WALKING_UPSTAIRS',\n",
              " 'WALKING_UPSTAIRS',\n",
              " 'WALKING_UPSTAIRS',\n",
              " 'WALKING_UPSTAIRS',\n",
              " 'WALKING_UPSTAIRS',\n",
              " 'WALKING_UPSTAIRS',\n",
              " 'WALKING_UPSTAIRS',\n",
              " 'WALKING',\n",
              " 'WALKING',\n",
              " 'WALKING_UPSTAIRS',\n",
              " 'WALKING_UPSTAIRS',\n",
              " 'WALKING_UPSTAIRS',\n",
              " 'WALKING_UPSTAIRS',\n",
              " 'WALKING_UPSTAIRS',\n",
              " 'WALKING_UPSTAIRS',\n",
              " 'WALKING_UPSTAIRS',\n",
              " 'WALKING_UPSTAIRS',\n",
              " 'STANDING',\n",
              " 'STANDING',\n",
              " 'SITTING',\n",
              " 'SITTING',\n",
              " 'SITTING',\n",
              " 'STANDING',\n",
              " 'STANDING',\n",
              " 'STANDING',\n",
              " 'STANDING',\n",
              " 'SITTING',\n",
              " 'STANDING',\n",
              " 'STANDING',\n",
              " 'SITTING',\n",
              " 'SITTING',\n",
              " 'STANDING',\n",
              " 'STANDING',\n",
              " 'SITTING',\n",
              " 'STANDING',\n",
              " 'STANDING',\n",
              " 'STANDING',\n",
              " 'STANDING',\n",
              " 'SITTING',\n",
              " 'SITTING',\n",
              " 'SITTING',\n",
              " 'SITTING',\n",
              " 'SITTING',\n",
              " 'STANDING',\n",
              " 'SITTING',\n",
              " 'SITTING',\n",
              " 'SITTING',\n",
              " 'SITTING',\n",
              " 'STANDING',\n",
              " 'SITTING',\n",
              " 'SITTING',\n",
              " 'SITTING',\n",
              " 'SITTING',\n",
              " 'STANDING',\n",
              " 'STANDING',\n",
              " 'SITTING',\n",
              " 'SITTING',\n",
              " 'SITTING',\n",
              " 'SITTING',\n",
              " 'SITTING',\n",
              " 'SITTING',\n",
              " 'SITTING',\n",
              " 'SITTING',\n",
              " 'SITTING',\n",
              " 'LAYING',\n",
              " 'LAYING',\n",
              " 'LAYING',\n",
              " 'LAYING',\n",
              " 'LAYING',\n",
              " 'LAYING',\n",
              " 'LAYING',\n",
              " 'LAYING',\n",
              " 'LAYING',\n",
              " 'LAYING',\n",
              " 'LAYING',\n",
              " 'LAYING',\n",
              " 'LAYING',\n",
              " 'LAYING',\n",
              " 'LAYING',\n",
              " 'LAYING',\n",
              " 'LAYING',\n",
              " 'LAYING',\n",
              " 'LAYING',\n",
              " 'LAYING',\n",
              " 'LAYING',\n",
              " 'LAYING',\n",
              " 'LAYING',\n",
              " 'LAYING',\n",
              " 'WALKING',\n",
              " 'WALKING',\n",
              " 'WALKING',\n",
              " 'WALKING',\n",
              " 'WALKING',\n",
              " 'WALKING',\n",
              " 'WALKING',\n",
              " 'WALKING',\n",
              " 'WALKING',\n",
              " 'WALKING',\n",
              " 'WALKING',\n",
              " 'WALKING',\n",
              " 'WALKING',\n",
              " 'WALKING',\n",
              " 'WALKING',\n",
              " 'WALKING',\n",
              " 'WALKING',\n",
              " 'WALKING',\n",
              " 'WALKING',\n",
              " 'WALKING',\n",
              " 'WALKING',\n",
              " 'WALKING',\n",
              " 'WALKING',\n",
              " 'WALKING',\n",
              " 'WALKING',\n",
              " 'WALKING',\n",
              " 'WALKING_UPSTAIRS',\n",
              " 'WALKING_DOWNSTAIRS',\n",
              " 'WALKING_DOWNSTAIRS',\n",
              " 'WALKING_DOWNSTAIRS',\n",
              " 'WALKING_UPSTAIRS',\n",
              " 'WALKING_DOWNSTAIRS',\n",
              " 'WALKING_DOWNSTAIRS',\n",
              " 'WALKING_UPSTAIRS',\n",
              " 'WALKING_UPSTAIRS',\n",
              " 'WALKING_UPSTAIRS',\n",
              " 'WALKING',\n",
              " 'WALKING_UPSTAIRS',\n",
              " 'WALKING_UPSTAIRS',\n",
              " 'WALKING_UPSTAIRS',\n",
              " 'WALKING_UPSTAIRS',\n",
              " 'WALKING_UPSTAIRS',\n",
              " 'WALKING_DOWNSTAIRS',\n",
              " 'WALKING_DOWNSTAIRS',\n",
              " 'WALKING_DOWNSTAIRS',\n",
              " 'WALKING_DOWNSTAIRS',\n",
              " 'WALKING_DOWNSTAIRS',\n",
              " 'WALKING_DOWNSTAIRS',\n",
              " 'WALKING_DOWNSTAIRS',\n",
              " 'WALKING_UPSTAIRS',\n",
              " 'WALKING_UPSTAIRS',\n",
              " 'WALKING_UPSTAIRS',\n",
              " 'WALKING_UPSTAIRS',\n",
              " 'WALKING_UPSTAIRS',\n",
              " 'WALKING_UPSTAIRS',\n",
              " 'WALKING_UPSTAIRS',\n",
              " 'WALKING_UPSTAIRS',\n",
              " 'WALKING_DOWNSTAIRS',\n",
              " 'WALKING_DOWNSTAIRS',\n",
              " 'WALKING_DOWNSTAIRS',\n",
              " 'WALKING_DOWNSTAIRS',\n",
              " 'WALKING_DOWNSTAIRS',\n",
              " 'WALKING_DOWNSTAIRS',\n",
              " 'WALKING_DOWNSTAIRS',\n",
              " 'WALKING_DOWNSTAIRS',\n",
              " 'WALKING_UPSTAIRS',\n",
              " 'WALKING',\n",
              " 'WALKING_UPSTAIRS',\n",
              " 'WALKING_UPSTAIRS',\n",
              " 'WALKING_UPSTAIRS',\n",
              " 'WALKING_UPSTAIRS',\n",
              " 'WALKING_UPSTAIRS',\n",
              " 'WALKING_UPSTAIRS',\n",
              " 'STANDING',\n",
              " 'STANDING',\n",
              " 'STANDING',\n",
              " 'STANDING',\n",
              " 'STANDING',\n",
              " 'STANDING',\n",
              " 'STANDING',\n",
              " 'STANDING',\n",
              " 'STANDING',\n",
              " 'STANDING',\n",
              " 'STANDING',\n",
              " 'STANDING',\n",
              " 'STANDING',\n",
              " 'SITTING',\n",
              " 'STANDING',\n",
              " 'STANDING',\n",
              " 'STANDING',\n",
              " 'STANDING',\n",
              " 'STANDING',\n",
              " 'STANDING',\n",
              " 'STANDING',\n",
              " 'STANDING',\n",
              " 'STANDING',\n",
              " 'SITTING',\n",
              " 'STANDING',\n",
              " 'STANDING',\n",
              " 'STANDING',\n",
              " 'SITTING',\n",
              " 'WALKING_UPSTAIRS',\n",
              " 'LAYING',\n",
              " 'LAYING',\n",
              " 'LAYING',\n",
              " 'SITTING',\n",
              " 'SITTING',\n",
              " 'SITTING',\n",
              " 'SITTING',\n",
              " 'SITTING',\n",
              " 'STANDING',\n",
              " 'SITTING',\n",
              " 'SITTING',\n",
              " 'SITTING',\n",
              " 'SITTING',\n",
              " 'SITTING',\n",
              " 'STANDING',\n",
              " 'STANDING',\n",
              " 'SITTING',\n",
              " 'SITTING',\n",
              " 'SITTING',\n",
              " 'LAYING',\n",
              " 'LAYING',\n",
              " 'LAYING',\n",
              " 'LAYING',\n",
              " 'LAYING',\n",
              " 'LAYING',\n",
              " 'LAYING',\n",
              " 'LAYING',\n",
              " 'LAYING',\n",
              " 'LAYING',\n",
              " 'LAYING',\n",
              " 'LAYING',\n",
              " 'LAYING',\n",
              " 'LAYING',\n",
              " 'LAYING',\n",
              " 'LAYING',\n",
              " 'LAYING',\n",
              " 'LAYING',\n",
              " 'LAYING',\n",
              " 'LAYING',\n",
              " 'LAYING',\n",
              " 'LAYING',\n",
              " 'LAYING',\n",
              " 'LAYING',\n",
              " 'LAYING',\n",
              " 'LAYING',\n",
              " 'WALKING',\n",
              " 'WALKING',\n",
              " 'WALKING',\n",
              " 'WALKING',\n",
              " 'WALKING',\n",
              " 'WALKING',\n",
              " 'WALKING',\n",
              " 'WALKING',\n",
              " 'WALKING',\n",
              " 'WALKING',\n",
              " 'WALKING',\n",
              " 'WALKING',\n",
              " 'WALKING',\n",
              " 'WALKING',\n",
              " 'WALKING',\n",
              " 'WALKING',\n",
              " 'WALKING',\n",
              " 'WALKING',\n",
              " 'WALKING',\n",
              " 'WALKING',\n",
              " 'WALKING',\n",
              " 'WALKING',\n",
              " 'WALKING',\n",
              " 'WALKING',\n",
              " 'WALKING',\n",
              " 'WALKING',\n",
              " 'WALKING_DOWNSTAIRS',\n",
              " 'WALKING_DOWNSTAIRS',\n",
              " 'WALKING_DOWNSTAIRS',\n",
              " 'WALKING_DOWNSTAIRS',\n",
              " 'WALKING_DOWNSTAIRS',\n",
              " 'WALKING_DOWNSTAIRS',\n",
              " 'WALKING_DOWNSTAIRS',\n",
              " 'WALKING_DOWNSTAIRS',\n",
              " 'WALKING_DOWNSTAIRS',\n",
              " 'WALKING_DOWNSTAIRS',\n",
              " 'WALKING_DOWNSTAIRS',\n",
              " 'WALKING_DOWNSTAIRS',\n",
              " 'WALKING_DOWNSTAIRS',\n",
              " 'WALKING_DOWNSTAIRS',\n",
              " 'WALKING_UPSTAIRS',\n",
              " 'WALKING_UPSTAIRS',\n",
              " 'WALKING_UPSTAIRS',\n",
              " 'WALKING',\n",
              " 'WALKING_UPSTAIRS',\n",
              " 'WALKING_UPSTAIRS',\n",
              " 'WALKING_UPSTAIRS',\n",
              " 'WALKING',\n",
              " 'WALKING_UPSTAIRS',\n",
              " 'WALKING_UPSTAIRS',\n",
              " 'WALKING_UPSTAIRS',\n",
              " 'WALKING_UPSTAIRS',\n",
              " 'WALKING_UPSTAIRS',\n",
              " 'WALKING',\n",
              " 'WALKING_UPSTAIRS',\n",
              " 'WALKING_UPSTAIRS',\n",
              " 'WALKING_UPSTAIRS',\n",
              " 'WALKING_UPSTAIRS',\n",
              " 'WALKING_UPSTAIRS',\n",
              " 'WALKING_UPSTAIRS',\n",
              " 'WALKING',\n",
              " 'WALKING_UPSTAIRS',\n",
              " 'WALKING_UPSTAIRS',\n",
              " 'WALKING_DOWNSTAIRS',\n",
              " 'WALKING_DOWNSTAIRS',\n",
              " 'WALKING_DOWNSTAIRS',\n",
              " 'WALKING_DOWNSTAIRS',\n",
              " 'WALKING_DOWNSTAIRS',\n",
              " 'WALKING_DOWNSTAIRS',\n",
              " 'WALKING_DOWNSTAIRS',\n",
              " 'STANDING',\n",
              " 'STANDING',\n",
              " 'STANDING',\n",
              " 'STANDING',\n",
              " 'STANDING',\n",
              " 'STANDING',\n",
              " 'STANDING',\n",
              " 'STANDING',\n",
              " 'STANDING',\n",
              " 'STANDING',\n",
              " 'STANDING',\n",
              " 'STANDING',\n",
              " 'STANDING',\n",
              " 'STANDING',\n",
              " 'STANDING',\n",
              " 'STANDING',\n",
              " 'STANDING',\n",
              " 'STANDING',\n",
              " 'STANDING',\n",
              " 'STANDING',\n",
              " 'STANDING',\n",
              " 'STANDING',\n",
              " 'STANDING',\n",
              " 'SITTING',\n",
              " 'SITTING',\n",
              " 'SITTING',\n",
              " 'SITTING',\n",
              " 'SITTING',\n",
              " 'SITTING',\n",
              " 'SITTING',\n",
              " 'SITTING',\n",
              " 'SITTING',\n",
              " 'SITTING',\n",
              " 'SITTING',\n",
              " 'SITTING',\n",
              " 'SITTING',\n",
              " 'SITTING',\n",
              " 'SITTING',\n",
              " 'SITTING',\n",
              " 'SITTING',\n",
              " 'SITTING',\n",
              " 'SITTING',\n",
              " 'SITTING',\n",
              " 'SITTING',\n",
              " 'SITTING',\n",
              " 'SITTING',\n",
              " 'SITTING',\n",
              " 'LAYING',\n",
              " 'LAYING',\n",
              " 'LAYING',\n",
              " 'LAYING',\n",
              " 'LAYING',\n",
              " 'LAYING',\n",
              " 'LAYING',\n",
              " 'LAYING',\n",
              " 'LAYING',\n",
              " 'LAYING',\n",
              " 'LAYING',\n",
              " 'LAYING',\n",
              " 'LAYING',\n",
              " 'LAYING',\n",
              " 'LAYING',\n",
              " 'LAYING',\n",
              " 'LAYING',\n",
              " 'LAYING',\n",
              " 'LAYING',\n",
              " 'LAYING',\n",
              " 'LAYING',\n",
              " 'LAYING',\n",
              " 'LAYING',\n",
              " 'LAYING',\n",
              " 'LAYING',\n",
              " 'LAYING',\n",
              " 'LAYING',\n",
              " 'LAYING',\n",
              " 'LAYING',\n",
              " 'LAYING',\n",
              " 'STANDING',\n",
              " 'WALKING',\n",
              " 'WALKING',\n",
              " 'WALKING',\n",
              " 'WALKING',\n",
              " 'WALKING',\n",
              " 'WALKING',\n",
              " 'WALKING',\n",
              " 'WALKING',\n",
              " 'WALKING',\n",
              " 'WALKING',\n",
              " 'WALKING',\n",
              " 'WALKING',\n",
              " 'WALKING',\n",
              " 'WALKING',\n",
              " 'WALKING',\n",
              " ...]"
            ]
          },
          "metadata": {
            "tags": []
          },
          "execution_count": 30
        }
      ]
    },
    {
      "cell_type": "code",
      "metadata": {
        "id": "Od5z-DvSNSSa",
        "outputId": "0b5b2b7a-7393-495e-9d35-ee31e8fcf489"
      },
      "source": [
        "print(confusion_matrix(y_test_label, y_pred_label))"
      ],
      "execution_count": null,
      "outputs": [
        {
          "output_type": "stream",
          "text": [
            "[[513  13  11   0   0   0]\n",
            " [  3 390  97   0   0   1]\n",
            " [  0  22 510   0   0   0]\n",
            " [  0   0   0 482  12   2]\n",
            " [  0   0   0  45 327  48]\n",
            " [  0   0   0  39   1 431]]\n"
          ],
          "name": "stdout"
        }
      ]
    },
    {
      "cell_type": "code",
      "metadata": {
        "id": "xMg2cb3CNSSc",
        "outputId": "3508d027-95fa-43f4-b681-6dcef30eb5b8"
      },
      "source": [
        "print(classification_report(y_test_label, y_pred_label))"
      ],
      "execution_count": null,
      "outputs": [
        {
          "output_type": "stream",
          "text": [
            "                    precision    recall  f1-score   support\n",
            "\n",
            "            LAYING       0.99      0.96      0.97       537\n",
            "           SITTING       0.92      0.79      0.85       491\n",
            "          STANDING       0.83      0.96      0.89       532\n",
            "           WALKING       0.85      0.97      0.91       496\n",
            "WALKING_DOWNSTAIRS       0.96      0.78      0.86       420\n",
            "  WALKING_UPSTAIRS       0.89      0.92      0.90       471\n",
            "\n",
            "          accuracy                           0.90      2947\n",
            "         macro avg       0.91      0.90      0.90      2947\n",
            "      weighted avg       0.91      0.90      0.90      2947\n",
            "\n"
          ],
          "name": "stdout"
        }
      ]
    }
  ]
}